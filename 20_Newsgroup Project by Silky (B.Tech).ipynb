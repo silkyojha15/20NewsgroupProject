{
 "cells": [
  {
   "cell_type": "markdown",
   "metadata": {},
   "source": [
    "# 20_Newsgroup Project by Silky (B.Tech. IT)"
   ]
  },
  {
   "cell_type": "code",
   "execution_count": 1,
   "metadata": {},
   "outputs": [
    {
     "name": "stderr",
     "output_type": "stream",
     "text": [
      "[nltk_data] Downloading package stopwords to\n",
      "[nltk_data]     C:\\Users\\HP\\AppData\\Roaming\\nltk_data...\n",
      "[nltk_data]   Package stopwords is already up-to-date!\n"
     ]
    }
   ],
   "source": [
    "import pandas as pd\n",
    "import numpy as np\n",
    "import matplotlib.pylab as plt\n",
    "%matplotlib inline\n",
    "import seaborn as sns\n",
    "import re\n",
    "import string\n",
    "import random\n",
    "from sklearn.feature_extraction.text import HashingVectorizer\n",
    "from sklearn.feature_extraction.text import CountVectorizer\n",
    "from sklearn.feature_extraction.text import TfidfTransformer\n",
    "from sklearn.feature_extraction.text import TfidfVectorizer\n",
    "from sklearn import metrics    \n",
    "from nltk.tokenize import word_tokenize\n",
    "from nltk.stem import PorterStemmer\n",
    "import nltk\n",
    "from nltk.corpus import stopwords\n",
    "nltk.download('stopwords')\n",
    "stopWords = set(stopwords.words('english'))\n",
    "from sklearn.naive_bayes import MultinomialNB\n",
    "from sklearn import ensemble\n",
    "from sklearn.model_selection import cross_val_score\n",
    "from sklearn.model_selection import train_test_split\n",
    "from sklearn.feature_extraction.text import TfidfVectorizer\n",
    "from sklearn.metrics import classification_report\n",
    "from sklearn.metrics import confusion_matrix\n",
    "from sklearn.linear_model import LogisticRegression\n",
    "from sklearn.datasets import fetch_20newsgroups"
   ]
  },
  {
   "cell_type": "markdown",
   "metadata": {},
   "source": [
    "Fetching and Displaying Dataset"
   ]
  },
  {
   "cell_type": "code",
   "execution_count": 2,
   "metadata": {},
   "outputs": [],
   "source": [
    "dataset = fetch_20newsgroups(subset='all', remove=('headers', 'footers', 'quotes'), \n",
    "                                  shuffle=True, random_state=42)\n",
    "df_full = pd.DataFrame()\n",
    "df_full['news'] = dataset.data\n",
    "df_full['source'] = dataset.target"
   ]
  },
  {
   "cell_type": "code",
   "execution_count": 3,
   "metadata": {},
   "outputs": [
    {
     "data": {
      "text/html": [
       "<div>\n",
       "<style scoped>\n",
       "    .dataframe tbody tr th:only-of-type {\n",
       "        vertical-align: middle;\n",
       "    }\n",
       "\n",
       "    .dataframe tbody tr th {\n",
       "        vertical-align: top;\n",
       "    }\n",
       "\n",
       "    .dataframe thead th {\n",
       "        text-align: right;\n",
       "    }\n",
       "</style>\n",
       "<table border=\"1\" class=\"dataframe\">\n",
       "  <thead>\n",
       "    <tr style=\"text-align: right;\">\n",
       "      <th></th>\n",
       "      <th>news</th>\n",
       "      <th>source</th>\n",
       "    </tr>\n",
       "  </thead>\n",
       "  <tbody>\n",
       "    <tr>\n",
       "      <th>0</th>\n",
       "      <td>\\n\\nI am sure some bashers of Pens fans are pr...</td>\n",
       "      <td>10</td>\n",
       "    </tr>\n",
       "    <tr>\n",
       "      <th>1</th>\n",
       "      <td>My brother is in the market for a high-perform...</td>\n",
       "      <td>3</td>\n",
       "    </tr>\n",
       "    <tr>\n",
       "      <th>2</th>\n",
       "      <td>\\n\\n\\n\\n\\tFinally you said what you dream abou...</td>\n",
       "      <td>17</td>\n",
       "    </tr>\n",
       "    <tr>\n",
       "      <th>3</th>\n",
       "      <td>\\nThink!\\n\\nIt's the SCSI card doing the DMA t...</td>\n",
       "      <td>3</td>\n",
       "    </tr>\n",
       "    <tr>\n",
       "      <th>4</th>\n",
       "      <td>1)    I have an old Jasmine drive which I cann...</td>\n",
       "      <td>4</td>\n",
       "    </tr>\n",
       "  </tbody>\n",
       "</table>\n",
       "</div>"
      ],
      "text/plain": [
       "                                                news  source\n",
       "0  \\n\\nI am sure some bashers of Pens fans are pr...      10\n",
       "1  My brother is in the market for a high-perform...       3\n",
       "2  \\n\\n\\n\\n\\tFinally you said what you dream abou...      17\n",
       "3  \\nThink!\\n\\nIt's the SCSI card doing the DMA t...       3\n",
       "4  1)    I have an old Jasmine drive which I cann...       4"
      ]
     },
     "execution_count": 3,
     "metadata": {},
     "output_type": "execute_result"
    }
   ],
   "source": [
    "df_full.head()"
   ]
  },
  {
   "cell_type": "code",
   "execution_count": 4,
   "metadata": {},
   "outputs": [],
   "source": [
    "label=[]\n",
    "for i in df_full['source']:\n",
    "    label.append(dataset.target_names[i])\n",
    "df_full['label']=label"
   ]
  },
  {
   "cell_type": "code",
   "execution_count": 5,
   "metadata": {},
   "outputs": [
    {
     "data": {
      "text/plain": [
       "0                rec.sport.hockey\n",
       "1        comp.sys.ibm.pc.hardware\n",
       "2           talk.politics.mideast\n",
       "3        comp.sys.ibm.pc.hardware\n",
       "4           comp.sys.mac.hardware\n",
       "5                 sci.electronics\n",
       "6           comp.sys.mac.hardware\n",
       "7                rec.sport.hockey\n",
       "8                rec.sport.hockey\n",
       "9              talk.religion.misc\n",
       "10             talk.religion.misc\n",
       "11                      sci.crypt\n",
       "12             talk.religion.misc\n",
       "13                        sci.med\n",
       "14                    alt.atheism\n",
       "15          talk.politics.mideast\n",
       "16                sci.electronics\n",
       "17                sci.electronics\n",
       "18                      sci.crypt\n",
       "19                rec.motorcycles\n",
       "20                      rec.autos\n",
       "21                 comp.windows.x\n",
       "22                  comp.graphics\n",
       "23                rec.motorcycles\n",
       "24               rec.sport.hockey\n",
       "25                      sci.space\n",
       "26             talk.politics.guns\n",
       "27                  comp.graphics\n",
       "28                   misc.forsale\n",
       "29                    alt.atheism\n",
       "                   ...           \n",
       "18816      soc.religion.christian\n",
       "18817              comp.windows.x\n",
       "18818                 alt.atheism\n",
       "18819                     sci.med\n",
       "18820                 alt.atheism\n",
       "18821      soc.religion.christian\n",
       "18822       talk.politics.mideast\n",
       "18823     comp.os.ms-windows.misc\n",
       "18824              comp.windows.x\n",
       "18825                   rec.autos\n",
       "18826       comp.sys.mac.hardware\n",
       "18827          talk.politics.misc\n",
       "18828            rec.sport.hockey\n",
       "18829    comp.sys.ibm.pc.hardware\n",
       "18830          rec.sport.baseball\n",
       "18831    comp.sys.ibm.pc.hardware\n",
       "18832      soc.religion.christian\n",
       "18833                misc.forsale\n",
       "18834                   sci.crypt\n",
       "18835             sci.electronics\n",
       "18836       talk.politics.mideast\n",
       "18837            rec.sport.hockey\n",
       "18838       talk.politics.mideast\n",
       "18839      soc.religion.christian\n",
       "18840                misc.forsale\n",
       "18841                     sci.med\n",
       "18842             sci.electronics\n",
       "18843    comp.sys.ibm.pc.hardware\n",
       "18844               comp.graphics\n",
       "18845                   rec.autos\n",
       "Name: label, Length: 18846, dtype: object"
      ]
     },
     "execution_count": 5,
     "metadata": {},
     "output_type": "execute_result"
    }
   ],
   "source": [
    "df_full.label"
   ]
  },
  {
   "cell_type": "code",
   "execution_count": 6,
   "metadata": {},
   "outputs": [
    {
     "data": {
      "text/html": [
       "<div>\n",
       "<style scoped>\n",
       "    .dataframe tbody tr th:only-of-type {\n",
       "        vertical-align: middle;\n",
       "    }\n",
       "\n",
       "    .dataframe tbody tr th {\n",
       "        vertical-align: top;\n",
       "    }\n",
       "\n",
       "    .dataframe thead th {\n",
       "        text-align: right;\n",
       "    }\n",
       "</style>\n",
       "<table border=\"1\" class=\"dataframe\">\n",
       "  <thead>\n",
       "    <tr style=\"text-align: right;\">\n",
       "      <th></th>\n",
       "      <th>news</th>\n",
       "      <th>source</th>\n",
       "      <th>label</th>\n",
       "    </tr>\n",
       "  </thead>\n",
       "  <tbody>\n",
       "    <tr>\n",
       "      <th>0</th>\n",
       "      <td>\\n\\nI am sure some bashers of Pens fans are pr...</td>\n",
       "      <td>10</td>\n",
       "      <td>rec.sport.hockey</td>\n",
       "    </tr>\n",
       "    <tr>\n",
       "      <th>1</th>\n",
       "      <td>My brother is in the market for a high-perform...</td>\n",
       "      <td>3</td>\n",
       "      <td>comp.sys.ibm.pc.hardware</td>\n",
       "    </tr>\n",
       "    <tr>\n",
       "      <th>2</th>\n",
       "      <td>\\n\\n\\n\\n\\tFinally you said what you dream abou...</td>\n",
       "      <td>17</td>\n",
       "      <td>talk.politics.mideast</td>\n",
       "    </tr>\n",
       "    <tr>\n",
       "      <th>3</th>\n",
       "      <td>\\nThink!\\n\\nIt's the SCSI card doing the DMA t...</td>\n",
       "      <td>3</td>\n",
       "      <td>comp.sys.ibm.pc.hardware</td>\n",
       "    </tr>\n",
       "    <tr>\n",
       "      <th>4</th>\n",
       "      <td>1)    I have an old Jasmine drive which I cann...</td>\n",
       "      <td>4</td>\n",
       "      <td>comp.sys.mac.hardware</td>\n",
       "    </tr>\n",
       "  </tbody>\n",
       "</table>\n",
       "</div>"
      ],
      "text/plain": [
       "                                                news  source  \\\n",
       "0  \\n\\nI am sure some bashers of Pens fans are pr...      10   \n",
       "1  My brother is in the market for a high-perform...       3   \n",
       "2  \\n\\n\\n\\n\\tFinally you said what you dream abou...      17   \n",
       "3  \\nThink!\\n\\nIt's the SCSI card doing the DMA t...       3   \n",
       "4  1)    I have an old Jasmine drive which I cann...       4   \n",
       "\n",
       "                      label  \n",
       "0          rec.sport.hockey  \n",
       "1  comp.sys.ibm.pc.hardware  \n",
       "2     talk.politics.mideast  \n",
       "3  comp.sys.ibm.pc.hardware  \n",
       "4     comp.sys.mac.hardware  "
      ]
     },
     "execution_count": 6,
     "metadata": {},
     "output_type": "execute_result"
    }
   ],
   "source": [
    "df_full.head()"
   ]
  },
  {
   "cell_type": "markdown",
   "metadata": {},
   "source": [
    "Training Dataset"
   ]
  },
  {
   "cell_type": "code",
   "execution_count": 7,
   "metadata": {},
   "outputs": [],
   "source": [
    "train = fetch_20newsgroups(subset='train', remove=('headers', 'footers', 'quotes'), \n",
    "                                   shuffle=True, random_state=42)\n",
    "df_train = pd.DataFrame()\n",
    "df_train['news'] = train.data\n",
    "df_train['source'] = train.target\n"
   ]
  },
  {
   "cell_type": "code",
   "execution_count": 8,
   "metadata": {},
   "outputs": [
    {
     "data": {
      "text/html": [
       "<div>\n",
       "<style scoped>\n",
       "    .dataframe tbody tr th:only-of-type {\n",
       "        vertical-align: middle;\n",
       "    }\n",
       "\n",
       "    .dataframe tbody tr th {\n",
       "        vertical-align: top;\n",
       "    }\n",
       "\n",
       "    .dataframe thead th {\n",
       "        text-align: right;\n",
       "    }\n",
       "</style>\n",
       "<table border=\"1\" class=\"dataframe\">\n",
       "  <thead>\n",
       "    <tr style=\"text-align: right;\">\n",
       "      <th></th>\n",
       "      <th>news</th>\n",
       "      <th>source</th>\n",
       "    </tr>\n",
       "  </thead>\n",
       "  <tbody>\n",
       "    <tr>\n",
       "      <th>0</th>\n",
       "      <td>I was wondering if anyone out there could enli...</td>\n",
       "      <td>7</td>\n",
       "    </tr>\n",
       "    <tr>\n",
       "      <th>1</th>\n",
       "      <td>A fair number of brave souls who upgraded thei...</td>\n",
       "      <td>4</td>\n",
       "    </tr>\n",
       "    <tr>\n",
       "      <th>2</th>\n",
       "      <td>well folks, my mac plus finally gave up the gh...</td>\n",
       "      <td>4</td>\n",
       "    </tr>\n",
       "    <tr>\n",
       "      <th>3</th>\n",
       "      <td>\\nDo you have Weitek's address/phone number?  ...</td>\n",
       "      <td>1</td>\n",
       "    </tr>\n",
       "    <tr>\n",
       "      <th>4</th>\n",
       "      <td>From article &lt;C5owCB.n3p@world.std.com&gt;, by to...</td>\n",
       "      <td>14</td>\n",
       "    </tr>\n",
       "  </tbody>\n",
       "</table>\n",
       "</div>"
      ],
      "text/plain": [
       "                                                news  source\n",
       "0  I was wondering if anyone out there could enli...       7\n",
       "1  A fair number of brave souls who upgraded thei...       4\n",
       "2  well folks, my mac plus finally gave up the gh...       4\n",
       "3  \\nDo you have Weitek's address/phone number?  ...       1\n",
       "4  From article <C5owCB.n3p@world.std.com>, by to...      14"
      ]
     },
     "execution_count": 8,
     "metadata": {},
     "output_type": "execute_result"
    }
   ],
   "source": [
    "df_train.head()"
   ]
  },
  {
   "cell_type": "code",
   "execution_count": 9,
   "metadata": {},
   "outputs": [
    {
     "data": {
      "text/plain": [
       "['alt.atheism',\n",
       " 'comp.graphics',\n",
       " 'comp.os.ms-windows.misc',\n",
       " 'comp.sys.ibm.pc.hardware',\n",
       " 'comp.sys.mac.hardware',\n",
       " 'comp.windows.x',\n",
       " 'misc.forsale',\n",
       " 'rec.autos',\n",
       " 'rec.motorcycles',\n",
       " 'rec.sport.baseball',\n",
       " 'rec.sport.hockey',\n",
       " 'sci.crypt',\n",
       " 'sci.electronics',\n",
       " 'sci.med',\n",
       " 'sci.space',\n",
       " 'soc.religion.christian',\n",
       " 'talk.politics.guns',\n",
       " 'talk.politics.mideast',\n",
       " 'talk.politics.misc',\n",
       " 'talk.religion.misc']"
      ]
     },
     "execution_count": 9,
     "metadata": {},
     "output_type": "execute_result"
    }
   ],
   "source": [
    "train.target_names"
   ]
  },
  {
   "cell_type": "code",
   "execution_count": 10,
   "metadata": {},
   "outputs": [
    {
     "data": {
      "text/plain": [
       "u'                                                                      \\nALL this shows is that YOU don\\'t know much about SCSI.\\n\\nSCSI-1 {with a SCSI-1 controler chip} range is indeed 0-5MB/s\\nand that is ALL you have right about SCSI\\nSCSI-1 {With a SCSI-2 controller chip}: 4-6MB/s with 10MB/s burst {8-bit}\\n Note the INCREASE in SPEED, the Mac Quadra uses this version of SCSI-1\\n so it DOES exist. Some PC use this set up too.\\nSCSI-2 {8-bit/SCSI-1 mode}:          4-6MB/s with 10MB/s burst\\nSCSI-2 {16-bit/wide or fast mode}:  8-12MB/s with 20MB/s burst\\nSCSI-2 {32-bit/wide AND fast}:     15-20MB/s with 40MB/s burst\\n \\nBy your OWN data the \"Although SCSI is twice as fast as ESDI\" is correct\\nWith a SCSI-2 controller chip SCSI-1 can reach 10MB/s which is indeed\\n\"20% faster than IDE\" {120% of 8.3 is 9.96}. ALL these SCSI facts have been\\nposted to this newsgroup in my Mac & IBM info sheet {available by FTP on \\nsumex-aim.stanford.edu (36.44.0.6) in the info-mac/report as \\nmac-ibm-compare[version #].txt (It should be 173 but 161 may still be there)}\\n\\nPart of this problem is both Mac and IBM PC are inconsiant about what SCSI\\nis which.  Though it is WELL documented that the Quadra has a SCSI-2 chip\\nan Apple salesperson said \"it uses a fast SCSI-1 chip\" {Not at a 6MB/s,\\n10MB/s burst it does not. SCSI-1 is 5MB/s maximum synchronous and Quadra\\nuses ANsynchronous SCSI which is SLOWER}  It seems that Mac and IBM see\\nSCSI-1 interface and think \\'SCSI-1\\' when it maybe a SCSI-1 interface driven\\nin the machine by a SCSi-2 controller chip in 8-bit mode {Which is MUCH\\nFASTER then true SCSI-1 can go}.'"
      ]
     },
     "execution_count": 10,
     "metadata": {},
     "output_type": "execute_result"
    }
   ],
   "source": [
    "train.data[7]"
   ]
  },
  {
   "cell_type": "code",
   "execution_count": 11,
   "metadata": {},
   "outputs": [
    {
     "data": {
      "text/plain": [
       "array([480, 584, 591, 590, 578, 593, 585, 594, 598, 597, 600, 595, 591,\n",
       "       594, 593, 599, 546, 564, 465, 377], dtype=int64)"
      ]
     },
     "execution_count": 11,
     "metadata": {},
     "output_type": "execute_result"
    }
   ],
   "source": [
    "np.bincount(train.target)"
   ]
  },
  {
   "cell_type": "markdown",
   "metadata": {},
   "source": [
    "Displaying training dataset target label in Dataframe"
   ]
  },
  {
   "cell_type": "code",
   "execution_count": 12,
   "metadata": {},
   "outputs": [],
   "source": [
    "label=[]\n",
    "for i in df_train['source']:\n",
    "    label.append(train.target_names[i])\n",
    "df_train['label']=label"
   ]
  },
  {
   "cell_type": "code",
   "execution_count": 13,
   "metadata": {},
   "outputs": [
    {
     "data": {
      "text/html": [
       "<div>\n",
       "<style scoped>\n",
       "    .dataframe tbody tr th:only-of-type {\n",
       "        vertical-align: middle;\n",
       "    }\n",
       "\n",
       "    .dataframe tbody tr th {\n",
       "        vertical-align: top;\n",
       "    }\n",
       "\n",
       "    .dataframe thead th {\n",
       "        text-align: right;\n",
       "    }\n",
       "</style>\n",
       "<table border=\"1\" class=\"dataframe\">\n",
       "  <thead>\n",
       "    <tr style=\"text-align: right;\">\n",
       "      <th></th>\n",
       "      <th>news</th>\n",
       "      <th>source</th>\n",
       "      <th>label</th>\n",
       "    </tr>\n",
       "  </thead>\n",
       "  <tbody>\n",
       "    <tr>\n",
       "      <th>0</th>\n",
       "      <td>I was wondering if anyone out there could enli...</td>\n",
       "      <td>7</td>\n",
       "      <td>rec.autos</td>\n",
       "    </tr>\n",
       "    <tr>\n",
       "      <th>1</th>\n",
       "      <td>A fair number of brave souls who upgraded thei...</td>\n",
       "      <td>4</td>\n",
       "      <td>comp.sys.mac.hardware</td>\n",
       "    </tr>\n",
       "    <tr>\n",
       "      <th>2</th>\n",
       "      <td>well folks, my mac plus finally gave up the gh...</td>\n",
       "      <td>4</td>\n",
       "      <td>comp.sys.mac.hardware</td>\n",
       "    </tr>\n",
       "    <tr>\n",
       "      <th>3</th>\n",
       "      <td>\\nDo you have Weitek's address/phone number?  ...</td>\n",
       "      <td>1</td>\n",
       "      <td>comp.graphics</td>\n",
       "    </tr>\n",
       "    <tr>\n",
       "      <th>4</th>\n",
       "      <td>From article &lt;C5owCB.n3p@world.std.com&gt;, by to...</td>\n",
       "      <td>14</td>\n",
       "      <td>sci.space</td>\n",
       "    </tr>\n",
       "  </tbody>\n",
       "</table>\n",
       "</div>"
      ],
      "text/plain": [
       "                                                news  source  \\\n",
       "0  I was wondering if anyone out there could enli...       7   \n",
       "1  A fair number of brave souls who upgraded thei...       4   \n",
       "2  well folks, my mac plus finally gave up the gh...       4   \n",
       "3  \\nDo you have Weitek's address/phone number?  ...       1   \n",
       "4  From article <C5owCB.n3p@world.std.com>, by to...      14   \n",
       "\n",
       "                   label  \n",
       "0              rec.autos  \n",
       "1  comp.sys.mac.hardware  \n",
       "2  comp.sys.mac.hardware  \n",
       "3          comp.graphics  \n",
       "4              sci.space  "
      ]
     },
     "execution_count": 13,
     "metadata": {},
     "output_type": "execute_result"
    }
   ],
   "source": [
    "df_train.head()"
   ]
  },
  {
   "cell_type": "markdown",
   "metadata": {},
   "source": [
    "Testing Dataset"
   ]
  },
  {
   "cell_type": "code",
   "execution_count": 14,
   "metadata": {},
   "outputs": [],
   "source": [
    "test = fetch_20newsgroups(subset='test', remove=('headers', 'footers', 'quotes'), \n",
    "                                  shuffle=True, random_state=42)\n",
    "df_test = pd.DataFrame()\n",
    "df_test['news'] = test.data\n",
    "df_test['source'] = test.target"
   ]
  },
  {
   "cell_type": "code",
   "execution_count": 15,
   "metadata": {},
   "outputs": [
    {
     "data": {
      "text/html": [
       "<div>\n",
       "<style scoped>\n",
       "    .dataframe tbody tr th:only-of-type {\n",
       "        vertical-align: middle;\n",
       "    }\n",
       "\n",
       "    .dataframe tbody tr th {\n",
       "        vertical-align: top;\n",
       "    }\n",
       "\n",
       "    .dataframe thead th {\n",
       "        text-align: right;\n",
       "    }\n",
       "</style>\n",
       "<table border=\"1\" class=\"dataframe\">\n",
       "  <thead>\n",
       "    <tr style=\"text-align: right;\">\n",
       "      <th></th>\n",
       "      <th>news</th>\n",
       "      <th>source</th>\n",
       "    </tr>\n",
       "  </thead>\n",
       "  <tbody>\n",
       "    <tr>\n",
       "      <th>0</th>\n",
       "      <td>I am a little confused on all of the models of...</td>\n",
       "      <td>7</td>\n",
       "    </tr>\n",
       "    <tr>\n",
       "      <th>1</th>\n",
       "      <td>I'm not familiar at all with the format of the...</td>\n",
       "      <td>5</td>\n",
       "    </tr>\n",
       "    <tr>\n",
       "      <th>2</th>\n",
       "      <td>\\nIn a word, yes.\\n</td>\n",
       "      <td>0</td>\n",
       "    </tr>\n",
       "    <tr>\n",
       "      <th>3</th>\n",
       "      <td>\\nThey were attacking the Iraqis to drive them...</td>\n",
       "      <td>17</td>\n",
       "    </tr>\n",
       "    <tr>\n",
       "      <th>4</th>\n",
       "      <td>\\nI've just spent two solid months arguing tha...</td>\n",
       "      <td>19</td>\n",
       "    </tr>\n",
       "  </tbody>\n",
       "</table>\n",
       "</div>"
      ],
      "text/plain": [
       "                                                news  source\n",
       "0  I am a little confused on all of the models of...       7\n",
       "1  I'm not familiar at all with the format of the...       5\n",
       "2                                \\nIn a word, yes.\\n       0\n",
       "3  \\nThey were attacking the Iraqis to drive them...      17\n",
       "4  \\nI've just spent two solid months arguing tha...      19"
      ]
     },
     "execution_count": 15,
     "metadata": {},
     "output_type": "execute_result"
    }
   ],
   "source": [
    "df_test.head()"
   ]
  },
  {
   "cell_type": "code",
   "execution_count": 16,
   "metadata": {},
   "outputs": [
    {
     "data": {
      "text/plain": [
       "['alt.atheism',\n",
       " 'comp.graphics',\n",
       " 'comp.os.ms-windows.misc',\n",
       " 'comp.sys.ibm.pc.hardware',\n",
       " 'comp.sys.mac.hardware',\n",
       " 'comp.windows.x',\n",
       " 'misc.forsale',\n",
       " 'rec.autos',\n",
       " 'rec.motorcycles',\n",
       " 'rec.sport.baseball',\n",
       " 'rec.sport.hockey',\n",
       " 'sci.crypt',\n",
       " 'sci.electronics',\n",
       " 'sci.med',\n",
       " 'sci.space',\n",
       " 'soc.religion.christian',\n",
       " 'talk.politics.guns',\n",
       " 'talk.politics.mideast',\n",
       " 'talk.politics.misc',\n",
       " 'talk.religion.misc']"
      ]
     },
     "execution_count": 16,
     "metadata": {},
     "output_type": "execute_result"
    }
   ],
   "source": [
    "test.target_names"
   ]
  },
  {
   "cell_type": "code",
   "execution_count": 17,
   "metadata": {},
   "outputs": [
    {
     "data": {
      "text/plain": [
       "u'I am a little confused on all of the models of the 88-89 bonnevilles.\\nI have heard of the LE SE LSE SSE SSEI. Could someone tell me the\\ndifferences are far as features or performance. I am also curious to\\nknow what the book value is for prefereably the 89 model. And how much\\nless than book value can you usually get them for. In other words how\\nmuch are they in demand this time of year. I have heard that the mid-spring\\nearly summer is the best time to buy.'"
      ]
     },
     "execution_count": 17,
     "metadata": {},
     "output_type": "execute_result"
    }
   ],
   "source": [
    "test.data[0]"
   ]
  },
  {
   "cell_type": "code",
   "execution_count": 18,
   "metadata": {},
   "outputs": [
    {
     "data": {
      "text/plain": [
       "array([319, 389, 394, 392, 385, 395, 390, 396, 398, 397, 399, 396, 393,\n",
       "       396, 394, 398, 364, 376, 310, 251], dtype=int64)"
      ]
     },
     "execution_count": 18,
     "metadata": {},
     "output_type": "execute_result"
    }
   ],
   "source": [
    "np.bincount(test.target)"
   ]
  },
  {
   "cell_type": "markdown",
   "metadata": {},
   "source": [
    "Displaying Testing Dataset target label in Dataframe"
   ]
  },
  {
   "cell_type": "code",
   "execution_count": 19,
   "metadata": {},
   "outputs": [],
   "source": [
    "label=[]\n",
    "for i in df_test['source']:\n",
    "    label.append(test.target_names[i])\n",
    "df_test['label']=label"
   ]
  },
  {
   "cell_type": "code",
   "execution_count": 20,
   "metadata": {},
   "outputs": [
    {
     "data": {
      "text/html": [
       "<div>\n",
       "<style scoped>\n",
       "    .dataframe tbody tr th:only-of-type {\n",
       "        vertical-align: middle;\n",
       "    }\n",
       "\n",
       "    .dataframe tbody tr th {\n",
       "        vertical-align: top;\n",
       "    }\n",
       "\n",
       "    .dataframe thead th {\n",
       "        text-align: right;\n",
       "    }\n",
       "</style>\n",
       "<table border=\"1\" class=\"dataframe\">\n",
       "  <thead>\n",
       "    <tr style=\"text-align: right;\">\n",
       "      <th></th>\n",
       "      <th>news</th>\n",
       "      <th>source</th>\n",
       "      <th>label</th>\n",
       "    </tr>\n",
       "  </thead>\n",
       "  <tbody>\n",
       "    <tr>\n",
       "      <th>0</th>\n",
       "      <td>I am a little confused on all of the models of...</td>\n",
       "      <td>7</td>\n",
       "      <td>rec.autos</td>\n",
       "    </tr>\n",
       "    <tr>\n",
       "      <th>1</th>\n",
       "      <td>I'm not familiar at all with the format of the...</td>\n",
       "      <td>5</td>\n",
       "      <td>comp.windows.x</td>\n",
       "    </tr>\n",
       "    <tr>\n",
       "      <th>2</th>\n",
       "      <td>\\nIn a word, yes.\\n</td>\n",
       "      <td>0</td>\n",
       "      <td>alt.atheism</td>\n",
       "    </tr>\n",
       "    <tr>\n",
       "      <th>3</th>\n",
       "      <td>\\nThey were attacking the Iraqis to drive them...</td>\n",
       "      <td>17</td>\n",
       "      <td>talk.politics.mideast</td>\n",
       "    </tr>\n",
       "    <tr>\n",
       "      <th>4</th>\n",
       "      <td>\\nI've just spent two solid months arguing tha...</td>\n",
       "      <td>19</td>\n",
       "      <td>talk.religion.misc</td>\n",
       "    </tr>\n",
       "  </tbody>\n",
       "</table>\n",
       "</div>"
      ],
      "text/plain": [
       "                                                news  source  \\\n",
       "0  I am a little confused on all of the models of...       7   \n",
       "1  I'm not familiar at all with the format of the...       5   \n",
       "2                                \\nIn a word, yes.\\n       0   \n",
       "3  \\nThey were attacking the Iraqis to drive them...      17   \n",
       "4  \\nI've just spent two solid months arguing tha...      19   \n",
       "\n",
       "                   label  \n",
       "0              rec.autos  \n",
       "1         comp.windows.x  \n",
       "2            alt.atheism  \n",
       "3  talk.politics.mideast  \n",
       "4     talk.religion.misc  "
      ]
     },
     "execution_count": 20,
     "metadata": {},
     "output_type": "execute_result"
    }
   ],
   "source": [
    "df_test.head()"
   ]
  },
  {
   "cell_type": "markdown",
   "metadata": {},
   "source": [
    "Cleaning News Data"
   ]
  },
  {
   "cell_type": "code",
   "execution_count": 21,
   "metadata": {},
   "outputs": [
    {
     "name": "stderr",
     "output_type": "stream",
     "text": [
      "[nltk_data] Downloading package punkt to\n",
      "[nltk_data]     C:\\Users\\HP\\AppData\\Roaming\\nltk_data...\n",
      "[nltk_data]   Package punkt is already up-to-date!\n",
      "[nltk_data] Downloading package wordnet to\n",
      "[nltk_data]     C:\\Users\\HP\\AppData\\Roaming\\nltk_data...\n",
      "[nltk_data]   Package wordnet is already up-to-date!\n"
     ]
    }
   ],
   "source": [
    "from nltk.stem import WordNetLemmatizer\n",
    "import nltk\n",
    "nltk.download('punkt')\n",
    "nltk.download('wordnet')\n",
    "lemmatizer = WordNetLemmatizer()\n",
    "\n",
    "stopWords = set(stopwords.words('english'))\n",
    "\n",
    "def textcleaner_lemmas(news):\n",
    "    \n",
    "    cleaner = re.sub(r\"[^a-zA-Z ]+\", ' ', news.lower()) # Lowercase and strip everything except words\n",
    "    \n",
    "    cleaner = word_tokenize(cleaner)\n",
    "    ps = PorterStemmer()\n",
    "    clean = []\n",
    "    for w in cleaner:\n",
    "        \n",
    "        if w not in stopWords:\n",
    "            \n",
    "            if len(w)>2:\n",
    "                \n",
    "                clean.append(lemmatizer.lemmatize(w))\n",
    "    return ' '.join(clean)"
   ]
  },
  {
   "cell_type": "code",
   "execution_count": 22,
   "metadata": {},
   "outputs": [],
   "source": [
    "df_full['clean_text'] = df_full.news.apply(lambda x: textcleaner_lemmas(x))\n",
    "df_train['clean_text'] = df_train.news.apply(lambda x: textcleaner_lemmas(x))\n",
    "df_test['clean_text'] = df_test.news.apply(lambda x: textcleaner_lemmas(x))"
   ]
  },
  {
   "cell_type": "code",
   "execution_count": 23,
   "metadata": {},
   "outputs": [
    {
     "data": {
      "text/html": [
       "<div>\n",
       "<style scoped>\n",
       "    .dataframe tbody tr th:only-of-type {\n",
       "        vertical-align: middle;\n",
       "    }\n",
       "\n",
       "    .dataframe tbody tr th {\n",
       "        vertical-align: top;\n",
       "    }\n",
       "\n",
       "    .dataframe thead th {\n",
       "        text-align: right;\n",
       "    }\n",
       "</style>\n",
       "<table border=\"1\" class=\"dataframe\">\n",
       "  <thead>\n",
       "    <tr style=\"text-align: right;\">\n",
       "      <th></th>\n",
       "      <th>news</th>\n",
       "      <th>source</th>\n",
       "      <th>label</th>\n",
       "      <th>clean_text</th>\n",
       "    </tr>\n",
       "  </thead>\n",
       "  <tbody>\n",
       "    <tr>\n",
       "      <th>0</th>\n",
       "      <td>I was wondering if anyone out there could enli...</td>\n",
       "      <td>7</td>\n",
       "      <td>rec.autos</td>\n",
       "      <td>wondering anyone could enlighten car saw day d...</td>\n",
       "    </tr>\n",
       "    <tr>\n",
       "      <th>1</th>\n",
       "      <td>A fair number of brave souls who upgraded thei...</td>\n",
       "      <td>4</td>\n",
       "      <td>comp.sys.mac.hardware</td>\n",
       "      <td>fair number brave soul upgraded clock oscillat...</td>\n",
       "    </tr>\n",
       "    <tr>\n",
       "      <th>2</th>\n",
       "      <td>well folks, my mac plus finally gave up the gh...</td>\n",
       "      <td>4</td>\n",
       "      <td>comp.sys.mac.hardware</td>\n",
       "      <td>well folk mac plus finally gave ghost weekend ...</td>\n",
       "    </tr>\n",
       "    <tr>\n",
       "      <th>3</th>\n",
       "      <td>\\nDo you have Weitek's address/phone number?  ...</td>\n",
       "      <td>1</td>\n",
       "      <td>comp.graphics</td>\n",
       "      <td>weitek address phone number like get informati...</td>\n",
       "    </tr>\n",
       "    <tr>\n",
       "      <th>4</th>\n",
       "      <td>From article &lt;C5owCB.n3p@world.std.com&gt;, by to...</td>\n",
       "      <td>14</td>\n",
       "      <td>sci.space</td>\n",
       "      <td>article owcb world std com tombaker world std ...</td>\n",
       "    </tr>\n",
       "  </tbody>\n",
       "</table>\n",
       "</div>"
      ],
      "text/plain": [
       "                                                news  source  \\\n",
       "0  I was wondering if anyone out there could enli...       7   \n",
       "1  A fair number of brave souls who upgraded thei...       4   \n",
       "2  well folks, my mac plus finally gave up the gh...       4   \n",
       "3  \\nDo you have Weitek's address/phone number?  ...       1   \n",
       "4  From article <C5owCB.n3p@world.std.com>, by to...      14   \n",
       "\n",
       "                   label                                         clean_text  \n",
       "0              rec.autos  wondering anyone could enlighten car saw day d...  \n",
       "1  comp.sys.mac.hardware  fair number brave soul upgraded clock oscillat...  \n",
       "2  comp.sys.mac.hardware  well folk mac plus finally gave ghost weekend ...  \n",
       "3          comp.graphics  weitek address phone number like get informati...  \n",
       "4              sci.space  article owcb world std com tombaker world std ...  "
      ]
     },
     "execution_count": 23,
     "metadata": {},
     "output_type": "execute_result"
    }
   ],
   "source": [
    "df_train.head()"
   ]
  },
  {
   "cell_type": "markdown",
   "metadata": {},
   "source": [
    "Convert Sentences to tf_idf"
   ]
  },
  {
   "cell_type": "code",
   "execution_count": 24,
   "metadata": {},
   "outputs": [
    {
     "data": {
      "text/plain": [
       "13874"
      ]
     },
     "execution_count": 24,
     "metadata": {},
     "output_type": "execute_result"
    }
   ],
   "source": [
    "from sklearn.feature_extraction.text import CountVectorizer,TfidfVectorizer\n",
    "vectorizer = TfidfVectorizer(min_df=5, strip_accents='ascii', analyzer='word', lowercase=True)\n",
    "\n",
    "x_train = vectorizer.fit_transform(df_train['clean_text'])\n",
    "y_train = df_train['source']\n",
    "x_test = vectorizer.transform(df_test['clean_text'])\n",
    "y_test = df_test['source']\n",
    "features_train = vectorizer.get_feature_names()\n",
    "len(features_train)"
   ]
  },
  {
   "cell_type": "markdown",
   "metadata": {},
   "source": [
    "1. Naive Bayes"
   ]
  },
  {
   "cell_type": "code",
   "execution_count": 25,
   "metadata": {},
   "outputs": [],
   "source": [
    "from sklearn.naive_bayes import MultinomialNB\n",
    "\n",
    "\n",
    "#Initialize and fit\n",
    "nb = MultinomialNB()\n",
    "nb.fit(x_train, y_train)\n",
    "nb.score(x_test, y_test)\n",
    "\n",
    "# Apply to testing data\n",
    "y_pred = nb.predict(x_test)\n"
   ]
  },
  {
   "cell_type": "code",
   "execution_count": 26,
   "metadata": {},
   "outputs": [
    {
     "name": "stdout",
     "output_type": "stream",
     "text": [
      "Accuracy is: 0.673\n",
      "                          precision    recall  f1-score   support\n",
      "\n",
      "             alt.atheism       0.68      0.23      0.34       319\n",
      "           comp.graphics       0.63      0.68      0.65       389\n",
      " comp.os.ms-windows.misc       0.62      0.57      0.59       394\n",
      "comp.sys.ibm.pc.hardware       0.57      0.69      0.63       392\n",
      "   comp.sys.mac.hardware       0.71      0.63      0.67       385\n",
      "          comp.windows.x       0.77      0.76      0.77       395\n",
      "            misc.forsale       0.80      0.76      0.78       390\n",
      "               rec.autos       0.79      0.71      0.75       396\n",
      "         rec.motorcycles       0.83      0.74      0.78       398\n",
      "      rec.sport.baseball       0.91      0.79      0.85       397\n",
      "        rec.sport.hockey       0.57      0.92      0.71       399\n",
      "               sci.crypt       0.67      0.78      0.72       396\n",
      "         sci.electronics       0.67      0.52      0.59       393\n",
      "                 sci.med       0.82      0.76      0.79       396\n",
      "               sci.space       0.76      0.75      0.75       394\n",
      "  soc.religion.christian       0.40      0.91      0.55       398\n",
      "      talk.politics.guns       0.58      0.74      0.65       364\n",
      "   talk.politics.mideast       0.82      0.77      0.80       376\n",
      "      talk.politics.misc       0.85      0.33      0.48       310\n",
      "      talk.religion.misc       0.80      0.02      0.03       251\n",
      "\n",
      "               micro avg       0.67      0.67      0.67      7532\n",
      "               macro avg       0.71      0.65      0.64      7532\n",
      "            weighted avg       0.71      0.67      0.66      7532\n",
      "\n"
     ]
    }
   ],
   "source": [
    "print(\"Accuracy is: %0.3f\" % nb.score(x_test, y_test))\n",
    "print(metrics.classification_report(y_test, y_pred, target_names=test.target_names))"
   ]
  },
  {
   "cell_type": "markdown",
   "metadata": {},
   "source": [
    "Prediction on Random Test data"
   ]
  },
  {
   "cell_type": "code",
   "execution_count": 27,
   "metadata": {},
   "outputs": [
    {
     "data": {
      "text/html": [
       "<div>\n",
       "<style scoped>\n",
       "    .dataframe tbody tr th:only-of-type {\n",
       "        vertical-align: middle;\n",
       "    }\n",
       "\n",
       "    .dataframe tbody tr th {\n",
       "        vertical-align: top;\n",
       "    }\n",
       "\n",
       "    .dataframe thead th {\n",
       "        text-align: right;\n",
       "    }\n",
       "</style>\n",
       "<table border=\"1\" class=\"dataframe\">\n",
       "  <thead>\n",
       "    <tr style=\"text-align: right;\">\n",
       "      <th></th>\n",
       "      <th>news</th>\n",
       "      <th>source</th>\n",
       "      <th>label</th>\n",
       "      <th>clean_text</th>\n",
       "    </tr>\n",
       "  </thead>\n",
       "  <tbody>\n",
       "    <tr>\n",
       "      <th>0</th>\n",
       "      <td>I am a little confused on all of the models of...</td>\n",
       "      <td>7</td>\n",
       "      <td>rec.autos</td>\n",
       "      <td>little confused model bonnevilles heard lse ss...</td>\n",
       "    </tr>\n",
       "    <tr>\n",
       "      <th>1</th>\n",
       "      <td>I'm not familiar at all with the format of the...</td>\n",
       "      <td>5</td>\n",
       "      <td>comp.windows.x</td>\n",
       "      <td>familiar format face thingies seeing folk head...</td>\n",
       "    </tr>\n",
       "    <tr>\n",
       "      <th>2</th>\n",
       "      <td>\\nIn a word, yes.\\n</td>\n",
       "      <td>0</td>\n",
       "      <td>alt.atheism</td>\n",
       "      <td>word yes</td>\n",
       "    </tr>\n",
       "    <tr>\n",
       "      <th>3</th>\n",
       "      <td>\\nThey were attacking the Iraqis to drive them...</td>\n",
       "      <td>17</td>\n",
       "      <td>talk.politics.mideast</td>\n",
       "      <td>attacking iraqi drive kuwait country whose cit...</td>\n",
       "    </tr>\n",
       "    <tr>\n",
       "      <th>4</th>\n",
       "      <td>\\nI've just spent two solid months arguing tha...</td>\n",
       "      <td>19</td>\n",
       "      <td>talk.religion.misc</td>\n",
       "      <td>spent two solid month arguing thing objective ...</td>\n",
       "    </tr>\n",
       "  </tbody>\n",
       "</table>\n",
       "</div>"
      ],
      "text/plain": [
       "                                                news  source  \\\n",
       "0  I am a little confused on all of the models of...       7   \n",
       "1  I'm not familiar at all with the format of the...       5   \n",
       "2                                \\nIn a word, yes.\\n       0   \n",
       "3  \\nThey were attacking the Iraqis to drive them...      17   \n",
       "4  \\nI've just spent two solid months arguing tha...      19   \n",
       "\n",
       "                   label                                         clean_text  \n",
       "0              rec.autos  little confused model bonnevilles heard lse ss...  \n",
       "1         comp.windows.x  familiar format face thingies seeing folk head...  \n",
       "2            alt.atheism                                           word yes  \n",
       "3  talk.politics.mideast  attacking iraqi drive kuwait country whose cit...  \n",
       "4     talk.religion.misc  spent two solid month arguing thing objective ...  "
      ]
     },
     "execution_count": 27,
     "metadata": {},
     "output_type": "execute_result"
    }
   ],
   "source": [
    "df_test.head()"
   ]
  },
  {
   "cell_type": "code",
   "execution_count": 28,
   "metadata": {},
   "outputs": [
    {
     "data": {
      "text/plain": [
       "(7532, 4)"
      ]
     },
     "execution_count": 28,
     "metadata": {},
     "output_type": "execute_result"
    }
   ],
   "source": [
    "df_test.shape"
   ]
  },
  {
   "cell_type": "code",
   "execution_count": 29,
   "metadata": {},
   "outputs": [],
   "source": [
    "testing_data = [ \"The Detroit Red Wings are still in rebuild mode,find \\n\\nsome hidden gems from your fantasy hockey team on teams with a lot to prove.\",\n",
    "               \"The hardware is the delivery system for the written...\", \n",
    "                \"latest motorcycles in India from Royal Enfield including Meteor 350, Himalayan, Classic and Bullet......\",\n",
    "               \" production of images on computers for use in any medium. Images used in the graphic design of printed material are frequent.\"]"
   ]
  },
  {
   "cell_type": "code",
   "execution_count": 30,
   "metadata": {},
   "outputs": [
    {
     "name": "stdout",
     "output_type": "stream",
     "text": [
      "Clean test data: [u'detroit red wing still rebuild mode find hidden gem fantasy hockey team team lot prove', 'hardware delivery system written', u'latest motorcycle india royal enfield including meteor himalayan classic bullet', u'production image computer use medium image used graphic design printed material frequent']\n"
     ]
    }
   ],
   "source": [
    "testing=[]\n",
    "for i in testing_data:\n",
    "    s = textcleaner_lemmas(i) \n",
    "    testing.append(s)\n",
    "print \"Clean test data:\", testing"
   ]
  },
  {
   "cell_type": "code",
   "execution_count": 31,
   "metadata": {},
   "outputs": [
    {
     "name": "stdout",
     "output_type": "stream",
     "text": [
      "(4L, 13874L)\n",
      "rec.sport.hockey\n",
      "comp.sys.ibm.pc.hardware\n",
      "rec.motorcycles\n",
      "comp.graphics\n"
     ]
    }
   ],
   "source": [
    "t = vectorizer.transform(testing).toarray()\n",
    "print (t.shape)\n",
    "Predicted_values = nb.predict(t)\n",
    "for i in Predicted_values:\n",
    "    print (dataset.target_names[i])\n"
   ]
  },
  {
   "cell_type": "markdown",
   "metadata": {},
   "source": [
    "Exploring ML Algorithms"
   ]
  },
  {
   "cell_type": "markdown",
   "metadata": {},
   "source": [
    "2. Logistics Regression"
   ]
  },
  {
   "cell_type": "code",
   "execution_count": 32,
   "metadata": {},
   "outputs": [],
   "source": [
    "X_train =  x_train\n",
    "Y_train = y_train\n",
    "X_test = x_test \n",
    "Y_test = y_test"
   ]
  },
  {
   "cell_type": "code",
   "execution_count": 33,
   "metadata": {},
   "outputs": [
    {
     "name": "stderr",
     "output_type": "stream",
     "text": [
      "C:\\ProgramData\\Anaconda2\\lib\\site-packages\\sklearn\\linear_model\\logistic.py:433: FutureWarning: Default solver will be changed to 'lbfgs' in 0.22. Specify a solver to silence this warning.\n",
      "  FutureWarning)\n",
      "C:\\ProgramData\\Anaconda2\\lib\\site-packages\\sklearn\\linear_model\\logistic.py:460: FutureWarning: Default multi_class will be changed to 'auto' in 0.22. Specify the multi_class option to silence this warning.\n",
      "  \"this warning.\", FutureWarning)\n"
     ]
    },
    {
     "name": "stdout",
     "output_type": "stream",
     "text": [
      "Accuracy is: 0.677\n",
      "                          precision    recall  f1-score   support\n",
      "\n",
      "             alt.atheism       0.49      0.48      0.49       319\n",
      "           comp.graphics       0.63      0.68      0.66       389\n",
      " comp.os.ms-windows.misc       0.64      0.59      0.61       394\n",
      "comp.sys.ibm.pc.hardware       0.65      0.62      0.63       392\n",
      "   comp.sys.mac.hardware       0.72      0.66      0.69       385\n",
      "          comp.windows.x       0.79      0.71      0.75       395\n",
      "            misc.forsale       0.75      0.77      0.76       390\n",
      "               rec.autos       0.75      0.68      0.72       396\n",
      "         rec.motorcycles       0.49      0.79      0.61       398\n",
      "      rec.sport.baseball       0.79      0.79      0.79       397\n",
      "        rec.sport.hockey       0.89      0.88      0.89       399\n",
      "               sci.crypt       0.87      0.67      0.76       396\n",
      "         sci.electronics       0.54      0.58      0.56       393\n",
      "                 sci.med       0.73      0.79      0.76       396\n",
      "               sci.space       0.70      0.74      0.72       394\n",
      "  soc.religion.christian       0.64      0.79      0.70       398\n",
      "      talk.politics.guns       0.58      0.68      0.63       364\n",
      "   talk.politics.mideast       0.85      0.73      0.79       376\n",
      "      talk.politics.misc       0.54      0.45      0.49       310\n",
      "      talk.religion.misc       0.48      0.16      0.24       251\n",
      "\n",
      "               micro avg       0.68      0.68      0.68      7532\n",
      "               macro avg       0.68      0.66      0.66      7532\n",
      "            weighted avg       0.68      0.68      0.67      7532\n",
      "\n"
     ]
    }
   ],
   "source": [
    "from sklearn.linear_model import LogisticRegression\n",
    "\n",
    "lr = LogisticRegression()\n",
    "lr.fit(X_train, Y_train)\n",
    "\n",
    "lr_pred = lr.predict(X_test)\n",
    "\n",
    "# Showing model performance\n",
    "\n",
    "print(\"Accuracy is: %0.3f\" % lr.score(X_test, Y_test))\n",
    "print(metrics.classification_report(Y_test, lr_pred, target_names=test.target_names));"
   ]
  },
  {
   "cell_type": "markdown",
   "metadata": {},
   "source": [
    "3. Random Forest"
   ]
  },
  {
   "cell_type": "code",
   "execution_count": 34,
   "metadata": {},
   "outputs": [
    {
     "name": "stderr",
     "output_type": "stream",
     "text": [
      "C:\\ProgramData\\Anaconda2\\lib\\site-packages\\sklearn\\ensemble\\forest.py:246: FutureWarning: The default value of n_estimators will change from 10 in version 0.20 to 100 in 0.22.\n",
      "  \"10 in version 0.20 to 100 in 0.22.\", FutureWarning)\n"
     ]
    },
    {
     "name": "stdout",
     "output_type": "stream",
     "text": [
      "Accuracy is: 0.525\n",
      "Accuracy is: 0.967\n",
      "                          precision    recall  f1-score   support\n",
      "\n",
      "             alt.atheism       0.35      0.37      0.36       319\n",
      "           comp.graphics       0.41      0.56      0.47       389\n",
      " comp.os.ms-windows.misc       0.44      0.54      0.49       394\n",
      "comp.sys.ibm.pc.hardware       0.42      0.43      0.42       392\n",
      "   comp.sys.mac.hardware       0.51      0.53      0.52       385\n",
      "          comp.windows.x       0.55      0.47      0.51       395\n",
      "            misc.forsale       0.61      0.66      0.63       390\n",
      "               rec.autos       0.36      0.60      0.45       396\n",
      "         rec.motorcycles       0.58      0.62      0.60       398\n",
      "      rec.sport.baseball       0.58      0.64      0.61       397\n",
      "        rec.sport.hockey       0.67      0.75      0.71       399\n",
      "               sci.crypt       0.71      0.56      0.63       396\n",
      "         sci.electronics       0.40      0.34      0.37       393\n",
      "                 sci.med       0.65      0.49      0.56       396\n",
      "               sci.space       0.70      0.55      0.61       394\n",
      "  soc.religion.christian       0.55      0.65      0.60       398\n",
      "      talk.politics.guns       0.49      0.46      0.48       364\n",
      "   talk.politics.mideast       0.83      0.63      0.72       376\n",
      "      talk.politics.misc       0.48      0.30      0.37       310\n",
      "      talk.religion.misc       0.27      0.11      0.15       251\n",
      "\n",
      "               micro avg       0.53      0.53      0.53      7532\n",
      "               macro avg       0.53      0.51      0.51      7532\n",
      "            weighted avg       0.54      0.53      0.52      7532\n",
      "\n"
     ]
    }
   ],
   "source": [
    "from sklearn import ensemble\n",
    "\n",
    "\n",
    "rfc = ensemble.RandomForestClassifier()\n",
    "rfc.fit(X_train, Y_train)\n",
    "\n",
    "y_pred = rfc.predict(X_test)\n",
    "\n",
    "\n",
    "# Showing model performance\n",
    "\n",
    "print(\"Accuracy is: %0.3f\" % rfc.score(X_test, Y_test))\n",
    "print(\"Accuracy is: %0.3f\" % rfc.score(X_train, Y_train))\n",
    "print(metrics.classification_report(Y_test, y_pred, target_names=test.target_names));"
   ]
  },
  {
   "cell_type": "code",
   "execution_count": 35,
   "metadata": {},
   "outputs": [
    {
     "data": {
      "image/png": "[encoded data removed]",
      "text/plain": [
       "<Figure size 576x288 with 1 Axes>"
      ]
     },
     "metadata": {
      "needs_background": "light"
     },
     "output_type": "display_data"
    }
   ],
   "source": [
    "accuracy = [0.673,0.677,0.524]\n",
    "\n",
    "labels = ['Naive Bayes', 'Logistic regression','Random forest']\n",
    "x = np.arange(len(labels))  \n",
    "width = 0.3 \n",
    "fig, ax = plt.subplots(1, 1,  figsize=(8, 4))\n",
    "g1 = ax.bar(x, accuracy, width, label='Model accuracy')\n",
    "\n",
    "ax.set_ylabel('Model accuracy')\n",
    "ax.set_title('Comparison of algorithms')\n",
    "ax.set_xticks(x)\n",
    "ax.set_xticklabels(labels)\n",
    "ax.set_ylim(0, 1)\n",
    "ax.legend();"
   ]
  },
  {
   "cell_type": "markdown",
   "metadata": {},
   "source": [
    "Confusion Matrix"
   ]
  },
  {
   "cell_type": "code",
   "execution_count": 36,
   "metadata": {},
   "outputs": [
    {
     "data": {
      "text/plain": [
       "array([[154,   3,   1,   0,   0,   2,   3,   5,  15,   5,   1,   1,   4,\n",
       "         12,  14,  61,   7,   9,   8,  14],\n",
       "       [  5, 264,  21,   9,   7,  20,   6,   4,   8,   4,   0,   5,  16,\n",
       "          6,  11,   1,   1,   1,   0,   0],\n",
       "       [  8,  24, 232,  30,  15,  25,   9,   3,  19,   3,   1,   2,   2,\n",
       "          5,  10,   2,   0,   0,   3,   1],\n",
       "       [  0,  14,  36, 244,  34,   5,  11,   3,   8,   3,   0,   1,  30,\n",
       "          1,   1,   0,   0,   0,   1,   0],\n",
       "       [  0,  10,  11,  35, 254,   5,  11,   4,  15,   2,   2,   1,  27,\n",
       "          4,   4,   0,   0,   0,   0,   0],\n",
       "       [  0,  34,  30,   6,   8, 280,   4,   3,   8,   2,   0,   3,   8,\n",
       "          0,   4,   0,   1,   2,   2,   0],\n",
       "       [  2,   3,   3,  19,  14,   2, 301,  10,  13,   4,   0,   1,   9,\n",
       "          1,   3,   1,   3,   0,   1,   0],\n",
       "       [  4,   3,   1,   1,   0,   3,  12, 271,  49,   5,   1,   1,  26,\n",
       "          2,   6,   1,   4,   1,   5,   0],\n",
       "       [  4,   2,   0,   1,   1,   0,   8,  20, 315,   7,   0,   0,  12,\n",
       "          7,   7,   2,   4,   0,   8,   0],\n",
       "       [  2,   4,   0,   2,   0,   2,   3,   1,  22, 315,  25,   0,   2,\n",
       "          5,   1,   4,   0,   3,   6,   0],\n",
       "       [  4,   0,   0,   1,   0,   0,   0,   1,  11,  11, 352,   0,   2,\n",
       "          3,   4,   2,   4,   1,   1,   2],\n",
       "       [  5,  10,   5,   2,   6,   4,   2,   1,  19,   6,   2, 266,  15,\n",
       "          5,  10,   4,  20,   3,  10,   1],\n",
       "       [  1,  14,  12,  22,  11,   4,  15,   9,  22,   5,   2,  15, 227,\n",
       "         13,  13,   3,   2,   1,   2,   0],\n",
       "       [  8,   7,   0,   1,   1,   2,   5,   6,  20,   0,   5,   0,  11,\n",
       "        311,   2,   3,   4,   2,   7,   1],\n",
       "       [  5,  11,   3,   0,   1,   2,   4,   6,  21,   4,   1,   1,  18,\n",
       "         10, 293,   2,   3,   0,   9,   0],\n",
       "       [ 22,   3,   3,   0,   0,   0,   1,   0,  15,   3,   0,   0,   1,\n",
       "         10,   5, 315,   1,   3,   6,  10],\n",
       "       [  9,   1,   3,   2,   1,   0,   2,   7,  22,   4,   1,   7,   1,\n",
       "          7,   6,   7, 246,   6,  23,   9],\n",
       "       [ 28,   3,   1,   0,   0,   0,   1,   1,  15,   5,   0,   1,   2,\n",
       "          3,   3,   6,   9, 276,  20,   2],\n",
       "       [ 16,   1,   0,   0,   0,   0,   0,   3,  14,   5,   1,   2,   4,\n",
       "          8,  12,   4,  87,   7, 141,   5],\n",
       "       [ 39,   5,   1,   2,   0,   0,   1,   4,  11,   5,   1,   0,   1,\n",
       "         11,   8,  78,  26,   9,   8,  41]], dtype=int64)"
      ]
     },
     "execution_count": 36,
     "metadata": {},
     "output_type": "execute_result"
    }
   ],
   "source": [
    "import sklearn\n",
    "\n",
    "from sklearn.metrics import confusion_matrix\n",
    "from sklearn.metrics import accuracy_score, classification_report, confusion_matrix\n",
    "\n",
    "cm = confusion_matrix(Y_test, lr_pred)\n",
    "cm\n"
   ]
  },
  {
   "cell_type": "markdown",
   "metadata": {},
   "source": [
    "Confusion Matrix using Seaborn"
   ]
  },
  {
   "cell_type": "code",
   "execution_count": 37,
   "metadata": {},
   "outputs": [
    {
     "data": {
      "image/png": "[encoded data removed]",
      "text/plain": [
       "<Figure size 432x288 with 2 Axes>"
      ]
     },
     "metadata": {
      "needs_background": "light"
     },
     "output_type": "display_data"
    }
   ],
   "source": [
    "import matplotlib.pyplot as plt\n",
    "import seaborn as sns\n",
    "ax = sns.heatmap(cm, annot=True, \n",
    "                  fmt='g', cbar=True, cmap = 'coolwarm_r', annot_kws = {'size':5});\n",
    "ax.set_xticklabels(ax.get_xmajorticklabels(), fontsize = 10, rotation=90)\n",
    "cm = confusion_matrix(Y_test, lr_pred)\n",
    "cm\n",
    "ax.set_title('Seaborn Confusion Matrix');\n",
    "ax.set_xlabel('Predicted Values')\n",
    "ax.set_ylabel('Test Values');\n",
    "\n",
    "ax.xaxis.set_ticklabels(train.target_names)\n",
    "ax.yaxis.set_ticklabels(test.target_names)\n",
    "plt.show()"
   ]
  },
  {
   "cell_type": "code",
   "execution_count": null,
   "metadata": {},
   "outputs": [],
   "source": []
  }
 ],
 "metadata": {
  "kernelspec": {
   "display_name": "Python 2",
   "language": "python",
   "name": "python2"
  },
  "language_info": {
   "codemirror_mode": {
    "name": "ipython",
    "version": 2
   },
   "file_extension": ".py",
   "mimetype": "text/x-python",
   "name": "python",
   "nbconvert_exporter": "python",
   "pygments_lexer": "ipython2",
   "version": "2.7.16"
  }
 },
 "nbformat": 4,
 "nbformat_minor": 2
}
